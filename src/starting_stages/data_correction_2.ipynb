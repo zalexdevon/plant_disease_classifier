{
 "cells": [
  {
   "cell_type": "code",
   "execution_count": null,
   "metadata": {},
   "outputs": [
    {
     "data": {
      "text/plain": [
       "'d:\\\\DA_workspace\\\\heart_disease_predictor\\\\src'"
      ]
     },
     "execution_count": 1,
     "metadata": {},
     "output_type": "execute_result"
    }
   ],
   "source": [
    "import os\n",
    "\n",
    "\n",
    "os.chdir(\"../\")\n",
    "\n",
    "\n",
    "os.getcwd()\n"
   ]
  },
  {
   "cell_type": "code",
   "execution_count": null,
   "metadata": {},
   "outputs": [],
   "source": [
    "import pandas as pd\n",
    "import numpy as np\n",
    "from classifier.Mylib import myfuncs\n",
    "from sklearn.compose import ColumnTransformer\n",
    "from sklearn.impute import SimpleImputer\n",
    "from sklearn.base import BaseEstimator, TransformerMixin\n",
    "from sklearn.model_selection import train_test_split\n",
    "import plotly.express as px\n"
   ]
  },
  {
   "cell_type": "code",
   "execution_count": null,
   "metadata": {},
   "outputs": [
    {
     "data": {
      "text/plain": [
       "((45167, 34), (352283, 34))"
      ]
     },
     "execution_count": 3,
     "metadata": {},
     "output_type": "execute_result"
    }
   ],
   "source": [
    "train_data = myfuncs.load_python_object(\"../artifacts/data_correction_1/train_data.pkl\")\n",
    "val_data = myfuncs.load_python_object(\"../artifacts/data_correction_1/val_data.pkl\")\n",
    "\n",
    "train_data.shape, val_data.shape\n"
   ]
  },
  {
   "cell_type": "code",
   "execution_count": null,
   "metadata": {},
   "outputs": [],
   "source": [
    "test_data = myfuncs.load_python_object(\"../artifacts/data_ingestion/test_data.pkl\")\n"
   ]
  },
  {
   "cell_type": "code",
   "execution_count": null,
   "metadata": {},
   "outputs": [],
   "source": [
    "val_data_selected = val_data.sample(n=11291)\n",
    "val_data_unselected = val_data[~val_data.index.isin(val_data_selected.index)]\n"
   ]
  },
  {
   "cell_type": "code",
   "execution_count": null,
   "metadata": {},
   "outputs": [],
   "source": [
    "test_data = pd.concat([test_data, val_data_unselected], axis=0)\n",
    "\n",
    "myfuncs.save_python_object(\n",
    "    file_path=\"../artifacts/data_ingestion/test_data.pkl\", obj=test_data\n",
    ")\n"
   ]
  },
  {
   "cell_type": "code",
   "execution_count": null,
   "metadata": {},
   "outputs": [],
   "source": [
    "df = pd.concat([train_data, val_data], axis=0)\n",
    "cols = pd.Series(df.columns)\n",
    "numeric_cols = cols[cols.str.endswith(\"num\")].tolist()\n",
    "cat_cols = list(set(cols) - set(numeric_cols))\n",
    "\n",
    "preprocessor = ColumnTransformer(\n",
    "    transformers=[\n",
    "        (\"num\", SimpleImputer(strategy=\"mean\"), numeric_cols),\n",
    "        (\"cat\", SimpleImputer(strategy=\"most_frequent\"), cat_cols),\n",
    "    ]\n",
    ")\n",
    "preprocessor.fit(df)\n"
   ]
  },
  {
   "cell_type": "code",
   "execution_count": null,
   "metadata": {},
   "outputs": [],
   "source": [
    "folder = \"../artifacts/data_correction_2\"\n"
   ]
  },
  {
   "cell_type": "code",
   "execution_count": null,
   "metadata": {},
   "outputs": [],
   "source": [
    "os.makedirs(folder, exist_ok=True)\n",
    "\n",
    "\n",
    "myfuncs.save_python_object(\n",
    "    file_path=os.path.join(folder, \"missing_value_handler.pkl\"), obj=preprocessor\n",
    ")\n",
    "\n",
    "\n",
    "myfuncs.save_python_object(\n",
    "    file_path=os.path.join(folder, \"train_data.pkl\"), obj=train_data\n",
    ")\n"
   ]
  },
  {
   "cell_type": "code",
   "execution_count": null,
   "metadata": {},
   "outputs": [],
   "source": [
    "myfuncs.save_python_object(\n",
    "    file_path=os.path.join(folder, \"val_data.pkl\"), obj=val_data_selected\n",
    ")\n"
   ]
  }
 ],
 "metadata": {
  "kernelspec": {
   "display_name": "Python 3",
   "language": "python",
   "name": "python3"
  },
  "language_info": {
   "codemirror_mode": {
    "name": "ipython",
    "version": 3
   },
   "file_extension": ".py",
   "mimetype": "text/x-python",
   "name": "python",
   "nbconvert_exporter": "python",
   "pygments_lexer": "ipython3",
   "version": "3.10.0"
  }
 },
 "nbformat": 4,
 "nbformat_minor": 2
}
