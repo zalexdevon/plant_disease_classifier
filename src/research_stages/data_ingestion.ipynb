{
 "cells": [
  {
   "cell_type": "code",
   "execution_count": 1,
   "metadata": {},
   "outputs": [
    {
     "data": {
      "text/plain": [
       "'d:\\\\DA_workspace\\\\heart_disease_predictor\\\\src'"
      ]
     },
     "execution_count": 1,
     "metadata": {},
     "output_type": "execute_result"
    }
   ],
   "source": [
    "import os\n",
    "\n",
    "\n",
    "os.chdir(\"../\")\n",
    "\n",
    "\n",
    "os.getcwd()\n"
   ]
  },
  {
   "cell_type": "code",
   "execution_count": 2,
   "metadata": {},
   "outputs": [],
   "source": [
    "import pandas as pd\n",
    "import numpy as np\n",
    "from sklearn.model_selection import train_test_split\n",
    "from classifier.Mylib import myfuncs\n"
   ]
  },
  {
   "cell_type": "code",
   "execution_count": 3,
   "metadata": {},
   "outputs": [
    {
     "data": {
      "application/vnd.microsoft.datawrangler.viewer.v0+json": {
       "columns": [
        {
         "name": "index",
         "rawType": "int64",
         "type": "integer"
        },
        {
         "name": "State",
         "rawType": "object",
         "type": "string"
        },
        {
         "name": "Sex",
         "rawType": "object",
         "type": "string"
        },
        {
         "name": "GeneralHealth",
         "rawType": "object",
         "type": "string"
        },
        {
         "name": "PhysicalHealthDays",
         "rawType": "float64",
         "type": "float"
        },
        {
         "name": "MentalHealthDays",
         "rawType": "float64",
         "type": "float"
        },
        {
         "name": "LastCheckupTime",
         "rawType": "object",
         "type": "unknown"
        },
        {
         "name": "PhysicalActivities",
         "rawType": "object",
         "type": "string"
        },
        {
         "name": "SleepHours",
         "rawType": "float64",
         "type": "float"
        },
        {
         "name": "RemovedTeeth",
         "rawType": "object",
         "type": "unknown"
        },
        {
         "name": "HadHeartAttack",
         "rawType": "object",
         "type": "string"
        },
        {
         "name": "HadAngina",
         "rawType": "object",
         "type": "string"
        },
        {
         "name": "HadStroke",
         "rawType": "object",
         "type": "string"
        },
        {
         "name": "HadAsthma",
         "rawType": "object",
         "type": "string"
        },
        {
         "name": "HadSkinCancer",
         "rawType": "object",
         "type": "string"
        },
        {
         "name": "HadCOPD",
         "rawType": "object",
         "type": "string"
        },
        {
         "name": "HadDepressiveDisorder",
         "rawType": "object",
         "type": "string"
        },
        {
         "name": "HadKidneyDisease",
         "rawType": "object",
         "type": "string"
        },
        {
         "name": "HadArthritis",
         "rawType": "object",
         "type": "string"
        },
        {
         "name": "HadDiabetes",
         "rawType": "object",
         "type": "string"
        },
        {
         "name": "DeafOrHardOfHearing",
         "rawType": "object",
         "type": "string"
        },
        {
         "name": "BlindOrVisionDifficulty",
         "rawType": "object",
         "type": "string"
        },
        {
         "name": "DifficultyConcentrating",
         "rawType": "object",
         "type": "string"
        },
        {
         "name": "DifficultyWalking",
         "rawType": "object",
         "type": "string"
        },
        {
         "name": "DifficultyDressingBathing",
         "rawType": "object",
         "type": "string"
        },
        {
         "name": "DifficultyErrands",
         "rawType": "object",
         "type": "string"
        },
        {
         "name": "SmokerStatus",
         "rawType": "object",
         "type": "string"
        },
        {
         "name": "ECigaretteUsage",
         "rawType": "object",
         "type": "string"
        },
        {
         "name": "ChestScan",
         "rawType": "object",
         "type": "string"
        },
        {
         "name": "RaceEthnicityCategory",
         "rawType": "object",
         "type": "string"
        },
        {
         "name": "AgeCategory",
         "rawType": "object",
         "type": "unknown"
        },
        {
         "name": "HeightInMeters",
         "rawType": "float64",
         "type": "float"
        },
        {
         "name": "WeightInKilograms",
         "rawType": "float64",
         "type": "float"
        },
        {
         "name": "BMI",
         "rawType": "float64",
         "type": "float"
        },
        {
         "name": "AlcoholDrinkers",
         "rawType": "object",
         "type": "string"
        },
        {
         "name": "HIVTesting",
         "rawType": "object",
         "type": "string"
        },
        {
         "name": "FluVaxLast12",
         "rawType": "object",
         "type": "string"
        },
        {
         "name": "PneumoVaxEver",
         "rawType": "object",
         "type": "string"
        },
        {
         "name": "TetanusLast10Tdap",
         "rawType": "object",
         "type": "unknown"
        },
        {
         "name": "HighRiskLastYear",
         "rawType": "object",
         "type": "string"
        },
        {
         "name": "CovidPos",
         "rawType": "object",
         "type": "string"
        }
       ],
       "conversionMethod": "pd.DataFrame",
       "ref": "c70f91c8-2b84-42ee-bc63-05af71a147d1",
       "rows": [
        [
         "0",
         "Alabama",
         "Female",
         "Very good",
         "0.0",
         "0.0",
         "Within past year (anytime less than 12 months ago)",
         "No",
         "8.0",
         null,
         "No",
         "No",
         "No",
         "No",
         "No",
         "No",
         "No",
         "No",
         "No",
         "Yes",
         "No",
         "No",
         "No",
         "No",
         "No",
         "No",
         "Never smoked",
         "Not at all (right now)",
         "No",
         "White only, Non-Hispanic",
         "Age 80 or older",
         null,
         null,
         null,
         "No",
         "No",
         "Yes",
         "No",
         "Yes, received tetanus shot but not sure what type",
         "No",
         "No"
        ],
        [
         "1",
         "Alabama",
         "Female",
         "Excellent",
         "0.0",
         "0.0",
         null,
         "No",
         "6.0",
         null,
         "No",
         "No",
         "No",
         "No",
         "Yes",
         "No",
         "No",
         "No",
         "No",
         "No",
         "No",
         "No",
         "No",
         "No",
         "No",
         "No",
         "Never smoked",
         "Never used e-cigarettes in my entire life",
         "No",
         "White only, Non-Hispanic",
         "Age 80 or older",
         "1.6",
         "68.04",
         "26.57",
         "No",
         "No",
         "No",
         "No",
         "No, did not receive any tetanus shot in the past 10 years",
         "No",
         "No"
        ],
        [
         "2",
         "Alabama",
         "Female",
         "Very good",
         "2.0",
         "3.0",
         "Within past year (anytime less than 12 months ago)",
         "Yes",
         "5.0",
         null,
         "No",
         "No",
         "No",
         "No",
         "Yes",
         "No",
         "No",
         "No",
         "No",
         "No",
         "No",
         "No",
         "No",
         "No",
         "No",
         "No",
         "Never smoked",
         "Never used e-cigarettes in my entire life",
         "No",
         "White only, Non-Hispanic",
         "Age 55 to 59",
         "1.57",
         "63.5",
         "25.61",
         "No",
         "No",
         "No",
         "No",
         null,
         "No",
         "Yes"
        ],
        [
         "3",
         "Alabama",
         "Female",
         "Excellent",
         "0.0",
         "0.0",
         "Within past year (anytime less than 12 months ago)",
         "Yes",
         "7.0",
         null,
         "No",
         "No",
         "No",
         "Yes",
         "No",
         "No",
         "No",
         "No",
         "Yes",
         "No",
         "No",
         "No",
         "No",
         "No",
         "No",
         "No",
         "Current smoker - now smokes some days",
         "Never used e-cigarettes in my entire life",
         "Yes",
         "White only, Non-Hispanic",
         null,
         "1.65",
         "63.5",
         "23.3",
         "No",
         "No",
         "Yes",
         "Yes",
         "No, did not receive any tetanus shot in the past 10 years",
         "No",
         "No"
        ],
        [
         "4",
         "Alabama",
         "Female",
         "Fair",
         "2.0",
         "0.0",
         "Within past year (anytime less than 12 months ago)",
         "Yes",
         "9.0",
         null,
         "No",
         "No",
         "No",
         "No",
         "No",
         "No",
         "No",
         "No",
         "No",
         "No",
         "No",
         "No",
         "No",
         "No",
         "No",
         "No",
         "Never smoked",
         "Never used e-cigarettes in my entire life",
         "Yes",
         "White only, Non-Hispanic",
         "Age 40 to 44",
         "1.57",
         "53.98",
         "21.77",
         "Yes",
         "No",
         "No",
         "Yes",
         "No, did not receive any tetanus shot in the past 10 years",
         "No",
         "No"
        ]
       ],
       "shape": {
        "columns": 40,
        "rows": 5
       }
      },
      "text/html": [
       "<div>\n",
       "<style scoped>\n",
       "    .dataframe tbody tr th:only-of-type {\n",
       "        vertical-align: middle;\n",
       "    }\n",
       "\n",
       "    .dataframe tbody tr th {\n",
       "        vertical-align: top;\n",
       "    }\n",
       "\n",
       "    .dataframe thead th {\n",
       "        text-align: right;\n",
       "    }\n",
       "</style>\n",
       "<table border=\"1\" class=\"dataframe\">\n",
       "  <thead>\n",
       "    <tr style=\"text-align: right;\">\n",
       "      <th></th>\n",
       "      <th>State</th>\n",
       "      <th>Sex</th>\n",
       "      <th>GeneralHealth</th>\n",
       "      <th>PhysicalHealthDays</th>\n",
       "      <th>MentalHealthDays</th>\n",
       "      <th>LastCheckupTime</th>\n",
       "      <th>PhysicalActivities</th>\n",
       "      <th>SleepHours</th>\n",
       "      <th>RemovedTeeth</th>\n",
       "      <th>HadHeartAttack</th>\n",
       "      <th>...</th>\n",
       "      <th>HeightInMeters</th>\n",
       "      <th>WeightInKilograms</th>\n",
       "      <th>BMI</th>\n",
       "      <th>AlcoholDrinkers</th>\n",
       "      <th>HIVTesting</th>\n",
       "      <th>FluVaxLast12</th>\n",
       "      <th>PneumoVaxEver</th>\n",
       "      <th>TetanusLast10Tdap</th>\n",
       "      <th>HighRiskLastYear</th>\n",
       "      <th>CovidPos</th>\n",
       "    </tr>\n",
       "  </thead>\n",
       "  <tbody>\n",
       "    <tr>\n",
       "      <th>0</th>\n",
       "      <td>Alabama</td>\n",
       "      <td>Female</td>\n",
       "      <td>Very good</td>\n",
       "      <td>0.0</td>\n",
       "      <td>0.0</td>\n",
       "      <td>Within past year (anytime less than 12 months ...</td>\n",
       "      <td>No</td>\n",
       "      <td>8.0</td>\n",
       "      <td>NaN</td>\n",
       "      <td>No</td>\n",
       "      <td>...</td>\n",
       "      <td>NaN</td>\n",
       "      <td>NaN</td>\n",
       "      <td>NaN</td>\n",
       "      <td>No</td>\n",
       "      <td>No</td>\n",
       "      <td>Yes</td>\n",
       "      <td>No</td>\n",
       "      <td>Yes, received tetanus shot but not sure what type</td>\n",
       "      <td>No</td>\n",
       "      <td>No</td>\n",
       "    </tr>\n",
       "    <tr>\n",
       "      <th>1</th>\n",
       "      <td>Alabama</td>\n",
       "      <td>Female</td>\n",
       "      <td>Excellent</td>\n",
       "      <td>0.0</td>\n",
       "      <td>0.0</td>\n",
       "      <td>NaN</td>\n",
       "      <td>No</td>\n",
       "      <td>6.0</td>\n",
       "      <td>NaN</td>\n",
       "      <td>No</td>\n",
       "      <td>...</td>\n",
       "      <td>1.60</td>\n",
       "      <td>68.04</td>\n",
       "      <td>26.57</td>\n",
       "      <td>No</td>\n",
       "      <td>No</td>\n",
       "      <td>No</td>\n",
       "      <td>No</td>\n",
       "      <td>No, did not receive any tetanus shot in the pa...</td>\n",
       "      <td>No</td>\n",
       "      <td>No</td>\n",
       "    </tr>\n",
       "    <tr>\n",
       "      <th>2</th>\n",
       "      <td>Alabama</td>\n",
       "      <td>Female</td>\n",
       "      <td>Very good</td>\n",
       "      <td>2.0</td>\n",
       "      <td>3.0</td>\n",
       "      <td>Within past year (anytime less than 12 months ...</td>\n",
       "      <td>Yes</td>\n",
       "      <td>5.0</td>\n",
       "      <td>NaN</td>\n",
       "      <td>No</td>\n",
       "      <td>...</td>\n",
       "      <td>1.57</td>\n",
       "      <td>63.50</td>\n",
       "      <td>25.61</td>\n",
       "      <td>No</td>\n",
       "      <td>No</td>\n",
       "      <td>No</td>\n",
       "      <td>No</td>\n",
       "      <td>NaN</td>\n",
       "      <td>No</td>\n",
       "      <td>Yes</td>\n",
       "    </tr>\n",
       "    <tr>\n",
       "      <th>3</th>\n",
       "      <td>Alabama</td>\n",
       "      <td>Female</td>\n",
       "      <td>Excellent</td>\n",
       "      <td>0.0</td>\n",
       "      <td>0.0</td>\n",
       "      <td>Within past year (anytime less than 12 months ...</td>\n",
       "      <td>Yes</td>\n",
       "      <td>7.0</td>\n",
       "      <td>NaN</td>\n",
       "      <td>No</td>\n",
       "      <td>...</td>\n",
       "      <td>1.65</td>\n",
       "      <td>63.50</td>\n",
       "      <td>23.30</td>\n",
       "      <td>No</td>\n",
       "      <td>No</td>\n",
       "      <td>Yes</td>\n",
       "      <td>Yes</td>\n",
       "      <td>No, did not receive any tetanus shot in the pa...</td>\n",
       "      <td>No</td>\n",
       "      <td>No</td>\n",
       "    </tr>\n",
       "    <tr>\n",
       "      <th>4</th>\n",
       "      <td>Alabama</td>\n",
       "      <td>Female</td>\n",
       "      <td>Fair</td>\n",
       "      <td>2.0</td>\n",
       "      <td>0.0</td>\n",
       "      <td>Within past year (anytime less than 12 months ...</td>\n",
       "      <td>Yes</td>\n",
       "      <td>9.0</td>\n",
       "      <td>NaN</td>\n",
       "      <td>No</td>\n",
       "      <td>...</td>\n",
       "      <td>1.57</td>\n",
       "      <td>53.98</td>\n",
       "      <td>21.77</td>\n",
       "      <td>Yes</td>\n",
       "      <td>No</td>\n",
       "      <td>No</td>\n",
       "      <td>Yes</td>\n",
       "      <td>No, did not receive any tetanus shot in the pa...</td>\n",
       "      <td>No</td>\n",
       "      <td>No</td>\n",
       "    </tr>\n",
       "  </tbody>\n",
       "</table>\n",
       "<p>5 rows × 40 columns</p>\n",
       "</div>"
      ],
      "text/plain": [
       "     State     Sex GeneralHealth  PhysicalHealthDays  MentalHealthDays  \\\n",
       "0  Alabama  Female     Very good                 0.0               0.0   \n",
       "1  Alabama  Female     Excellent                 0.0               0.0   \n",
       "2  Alabama  Female     Very good                 2.0               3.0   \n",
       "3  Alabama  Female     Excellent                 0.0               0.0   \n",
       "4  Alabama  Female          Fair                 2.0               0.0   \n",
       "\n",
       "                                     LastCheckupTime PhysicalActivities  \\\n",
       "0  Within past year (anytime less than 12 months ...                 No   \n",
       "1                                                NaN                 No   \n",
       "2  Within past year (anytime less than 12 months ...                Yes   \n",
       "3  Within past year (anytime less than 12 months ...                Yes   \n",
       "4  Within past year (anytime less than 12 months ...                Yes   \n",
       "\n",
       "   SleepHours RemovedTeeth HadHeartAttack  ... HeightInMeters  \\\n",
       "0         8.0          NaN             No  ...            NaN   \n",
       "1         6.0          NaN             No  ...           1.60   \n",
       "2         5.0          NaN             No  ...           1.57   \n",
       "3         7.0          NaN             No  ...           1.65   \n",
       "4         9.0          NaN             No  ...           1.57   \n",
       "\n",
       "  WeightInKilograms    BMI AlcoholDrinkers HIVTesting FluVaxLast12  \\\n",
       "0               NaN    NaN              No         No          Yes   \n",
       "1             68.04  26.57              No         No           No   \n",
       "2             63.50  25.61              No         No           No   \n",
       "3             63.50  23.30              No         No          Yes   \n",
       "4             53.98  21.77             Yes         No           No   \n",
       "\n",
       "  PneumoVaxEver                                  TetanusLast10Tdap  \\\n",
       "0            No  Yes, received tetanus shot but not sure what type   \n",
       "1            No  No, did not receive any tetanus shot in the pa...   \n",
       "2            No                                                NaN   \n",
       "3           Yes  No, did not receive any tetanus shot in the pa...   \n",
       "4           Yes  No, did not receive any tetanus shot in the pa...   \n",
       "\n",
       "  HighRiskLastYear CovidPos  \n",
       "0               No       No  \n",
       "1               No       No  \n",
       "2               No      Yes  \n",
       "3               No       No  \n",
       "4               No       No  \n",
       "\n",
       "[5 rows x 40 columns]"
      ]
     },
     "execution_count": 3,
     "metadata": {},
     "output_type": "execute_result"
    }
   ],
   "source": [
    "df = pd.read_csv(\"../Data/heart_2022_with_nans.csv\")\n",
    "\n",
    "df.head()\n"
   ]
  },
  {
   "cell_type": "code",
   "execution_count": 4,
   "metadata": {},
   "outputs": [
    {
     "data": {
      "text/plain": [
       "(445132, 40)"
      ]
     },
     "execution_count": 4,
     "metadata": {},
     "output_type": "execute_result"
    }
   ],
   "source": [
    "df.shape\n"
   ]
  },
  {
   "cell_type": "code",
   "execution_count": null,
   "metadata": {},
   "outputs": [
    {
     "data": {
      "text/plain": [
       "Index(['State', 'Sex', 'GeneralHealth', 'PhysicalHealthDays',\n",
       "       'MentalHealthDays', 'LastCheckupTime', 'PhysicalActivities',\n",
       "       'SleepHours', 'RemovedTeeth', 'HadHeartAttack', 'HadAngina',\n",
       "       'HadStroke', 'HadAsthma', 'HadSkinCancer', 'HadCOPD',\n",
       "       'HadDepressiveDisorder', 'HadKidneyDisease', 'HadArthritis',\n",
       "       'HadDiabetes', 'DeafOrHardOfHearing', 'BlindOrVisionDifficulty',\n",
       "       'DifficultyConcentrating', 'DifficultyWalking',\n",
       "       'DifficultyDressingBathing', 'DifficultyErrands', 'SmokerStatus',\n",
       "       'ECigaretteUsage', 'ChestScan', 'RaceEthnicityCategory', 'AgeCategory',\n",
       "       'HeightInMeters', 'WeightInKilograms', 'BMI', 'AlcoholDrinkers',\n",
       "       'HIVTesting', 'FluVaxLast12', 'PneumoVaxEver', 'TetanusLast10Tdap',\n",
       "       'HighRiskLastYear', 'CovidPos'],\n",
       "      dtype='object')"
      ]
     },
     "execution_count": 5,
     "metadata": {},
     "output_type": "execute_result"
    }
   ],
   "source": [
    "df.columns\n"
   ]
  },
  {
   "cell_type": "code",
   "execution_count": null,
   "metadata": {},
   "outputs": [],
   "source": [
    "df = df.dropna(subset=['HadHeartAttack'])\n"
   ]
  },
  {
   "cell_type": "code",
   "execution_count": null,
   "metadata": {},
   "outputs": [
    {
     "data": {
      "text/plain": [
       "(442067, 40)"
      ]
     },
     "execution_count": 9,
     "metadata": {},
     "output_type": "execute_result"
    }
   ],
   "source": [
    "df.shape\n"
   ]
  },
  {
   "cell_type": "code",
   "execution_count": 8,
   "metadata": {},
   "outputs": [],
   "source": [
    "df_train, df_test = train_test_split(\n",
    "    df, stratify=df[\"HadHeartAttack\"], test_size=0.1, random_state=42\n",
    ")\n",
    "\n",
    "df_train = df_train.reset_index(drop=True)\n",
    "df_test = df_test.reset_index(drop=True)\n",
    "\n",
    "\n",
    "data_folder = \"../artifacts/data_ingestion\"\n",
    "os.makedirs(data_folder, exist_ok=True)\n",
    "\n",
    "myfuncs.save_python_object(os.path.join(data_folder, \"raw_data.pkl\"), df)\n",
    "myfuncs.save_python_object(os.path.join(data_folder, \"train_data.pkl\"), df_train)\n",
    "myfuncs.save_python_object(os.path.join(data_folder, \"test_data.pkl\"), df_test)\n"
   ]
  }
 ],
 "metadata": {
  "kernelspec": {
   "display_name": "Python 3",
   "language": "python",
   "name": "python3"
  },
  "language_info": {
   "codemirror_mode": {
    "name": "ipython",
    "version": 3
   },
   "file_extension": ".py",
   "mimetype": "text/x-python",
   "name": "python",
   "nbconvert_exporter": "python",
   "pygments_lexer": "ipython3",
   "version": "3.10.0"
  }
 },
 "nbformat": 4,
 "nbformat_minor": 2
}
