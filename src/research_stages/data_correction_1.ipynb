{
 "cells": [
  {
   "cell_type": "code",
   "execution_count": null,
   "metadata": {},
   "outputs": [
    {
     "data": {
      "text/plain": [
       "'d:\\\\DA_workspace\\\\heart_disease_predictor\\\\src'"
      ]
     },
     "execution_count": 1,
     "metadata": {},
     "output_type": "execute_result"
    }
   ],
   "source": [
    "import os\n",
    "\n",
    "\n",
    "os.chdir(\"../\")\n",
    "\n",
    "\n",
    "os.getcwd()\n"
   ]
  },
  {
   "cell_type": "code",
   "execution_count": null,
   "metadata": {},
   "outputs": [],
   "source": [
    "import pandas as pd\n",
    "import numpy as np\n",
    "from classifier.Mylib import myfuncs\n",
    "from sklearn.compose import ColumnTransformer\n",
    "from sklearn.impute import SimpleImputer\n",
    "from sklearn.base import BaseEstimator, TransformerMixin\n",
    "from sklearn.model_selection import train_test_split\n",
    "import plotly.express as px\n"
   ]
  },
  {
   "cell_type": "code",
   "execution_count": null,
   "metadata": {},
   "outputs": [],
   "source": [
    "train_data = myfuncs.load_python_object(\"../artifacts/data_correction/train_data.pkl\")\n",
    "val_data = myfuncs.load_python_object(\"../artifacts/data_correction/val_data.pkl\")\n",
    "\n",
    "train_Yes_data = train_data[train_data[\"HadHeartAttack\"] == \"Yes\"]\n",
    "train_No_data = train_data[train_data[\"HadHeartAttack\"] == \"No\"]\n",
    "\n",
    "train_No_data_selected = train_No_data.sample(n=27090)\n",
    "train_No_data_unselected = train_No_data[\n",
    "    ~train_No_data.index.isin(train_No_data_selected.index)\n",
    "]\n",
    "\n",
    "train_data = (\n",
    "    pd.concat([train_Yes_data, train_No_data_selected], axis=0)\n",
    "    .sample(frac=1.0)\n",
    "    .reset_index(drop=True)\n",
    ")\n",
    "val_data = pd.concat([val_data, train_No_data_unselected], axis=0).reset_index(\n",
    "    drop=True\n",
    ")\n"
   ]
  },
  {
   "cell_type": "code",
   "execution_count": null,
   "metadata": {},
   "outputs": [],
   "source": [
    "# Luu preprocessor lai\n",
    "folder = \"../artifacts/data_correction_1\"\n",
    "os.makedirs(folder, exist_ok=True)\n",
    "\n",
    "myfuncs.save_python_object(\n",
    "    file_path=os.path.join(folder, \"train_data.pkl\"), obj=train_data\n",
    ")\n",
    "myfuncs.save_python_object(file_path=os.path.join(folder, \"val_data.pkl\"), obj=val_data)\n"
   ]
  }
 ],
 "metadata": {
  "kernelspec": {
   "display_name": "Python 3",
   "language": "python",
   "name": "python3"
  },
  "language_info": {
   "codemirror_mode": {
    "name": "ipython",
    "version": 3
   },
   "file_extension": ".py",
   "mimetype": "text/x-python",
   "name": "python",
   "nbconvert_exporter": "python",
   "pygments_lexer": "ipython3",
   "version": "3.10.0"
  }
 },
 "nbformat": 4,
 "nbformat_minor": 2
}
